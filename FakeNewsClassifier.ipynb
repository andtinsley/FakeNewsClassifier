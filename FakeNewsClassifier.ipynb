{
 "cells": [
  {
   "cell_type": "code",
   "execution_count": 56,
   "id": "clear-washington",
   "metadata": {},
   "outputs": [],
   "source": [
    "import pandas as pd\n",
    "import numpy as np"
   ]
  },
  {
   "cell_type": "code",
   "execution_count": 57,
   "id": "continued-fraud",
   "metadata": {},
   "outputs": [],
   "source": [
    "#load data\n",
    "location = 'C:/Users/andti/OneDrive/Documents/Datasets/WELFake_Dataset.csv'\n",
    "d = pd.read_csv(location)\n",
    "d.drop(['Unnamed: 0'], axis=1, inplace = True)"
   ]
  },
  {
   "cell_type": "code",
   "execution_count": 66,
   "id": "failing-insider",
   "metadata": {},
   "outputs": [],
   "source": [
    "DataSet = d.copy()"
   ]
  },
  {
   "cell_type": "code",
   "execution_count": 67,
   "id": "applied-peter",
   "metadata": {},
   "outputs": [
    {
     "data": {
      "text/plain": [
       "1    37106\n",
       "0    35028\n",
       "Name: label, dtype: int64"
      ]
     },
     "execution_count": 67,
     "metadata": {},
     "output_type": "execute_result"
    }
   ],
   "source": [
    "DataSet.label.value_counts()"
   ]
  },
  {
   "cell_type": "code",
   "execution_count": 68,
   "id": "noticed-prison",
   "metadata": {},
   "outputs": [],
   "source": [
    "#using text as an indicator \n",
    "TextDS = d[['text', 'label']]"
   ]
  },
  {
   "cell_type": "code",
   "execution_count": 69,
   "id": "distinguished-grade",
   "metadata": {},
   "outputs": [
    {
     "name": "stderr",
     "output_type": "stream",
     "text": [
      "[nltk_data] Downloading package stopwords to\n",
      "[nltk_data]     C:\\Users\\andti\\AppData\\Roaming\\nltk_data...\n",
      "[nltk_data]   Package stopwords is already up-to-date!\n"
     ]
    }
   ],
   "source": [
    "#remove stop words\n",
    "import nltk\n",
    "from nltk.corpus import stopwords\n",
    "nltk.download(\"stopwords\")\n",
    "stop_words = set(stopwords.words(\"english\"))"
   ]
  },
  {
   "cell_type": "code",
   "execution_count": 62,
   "id": "willing-silicon",
   "metadata": {},
   "outputs": [],
   "source": [
    "def TextWrangle (DataElement):\n",
    "    LowerCase = DataElement.str.lower()\n",
    "    RemoveStopWords = LowerCase.astype(str).apply(lambda x: ' '.join([word for word in x.split() if word not in (stop_words)]))\n",
    "    return RemoveStopWords"
   ]
  },
  {
   "cell_type": "code",
   "execution_count": 73,
   "id": "frozen-smart",
   "metadata": {
    "scrolled": true
   },
   "outputs": [
    {
     "name": "stderr",
     "output_type": "stream",
     "text": [
      "C:\\Users\\andti\\AppData\\Local\\Temp\\ipykernel_12428\\1858801252.py:1: SettingWithCopyWarning: \n",
      "A value is trying to be set on a copy of a slice from a DataFrame.\n",
      "Try using .loc[row_indexer,col_indexer] = value instead\n",
      "\n",
      "See the caveats in the documentation: https://pandas.pydata.org/pandas-docs/stable/user_guide/indexing.html#returning-a-view-versus-a-copy\n",
      "  TextDS['text'] = TextWrangle(TextDS['text'])\n"
     ]
    }
   ],
   "source": [
    "TextDS['text'] = TextWrangle(TextDS['text'])"
   ]
  },
  {
   "cell_type": "code",
   "execution_count": 75,
   "id": "8d16744f",
   "metadata": {},
   "outputs": [],
   "source": [
    "#remove nulls\n",
    "NullLines = TextDS['text'].isnull()\n",
    "TextDS = TextDS[~NullLines]"
   ]
  },
  {
   "cell_type": "code",
   "execution_count": 80,
   "id": "afbb849e",
   "metadata": {},
   "outputs": [],
   "source": [
    "from sklearn.feature_extraction.text import TfidfVectorizer\n",
    "tfidf = TfidfVectorizer(\n",
    "    sublinear_tf=True, \n",
    "    min_df=5, \n",
    "    norm='l2', \n",
    "    encoding='latin-1', \n",
    "    ngram_range=(1,2), \n",
    "    stop_words='english', \n",
    "    max_features=5000)\n",
    "\n",
    "features = tfidf.fit_transform(TextDS.text).toarray()\n",
    "labels = TextDS.label"
   ]
  },
  {
   "cell_type": "code",
   "execution_count": 77,
   "id": "golden-governor",
   "metadata": {},
   "outputs": [],
   "source": [
    "from sklearn.model_selection import train_test_split\n",
    "from sklearn.svm import LinearSVC\n",
    "\n",
    "model = LinearSVC()\n",
    "X_train, X_test, y_train, y_test = train_test_split(features, labels, test_size=0.20, random_state=42)\n",
    "model.fit(X_train, y_train)\n",
    "y_pred = model.predict(X_test)"
   ]
  },
  {
   "cell_type": "code",
   "execution_count": 78,
   "id": "904ee3ac",
   "metadata": {},
   "outputs": [
    {
     "data": {
      "text/plain": [
       "Text(0.5, 15.0, 'Predicted')"
      ]
     },
     "execution_count": 78,
     "metadata": {},
     "output_type": "execute_result"
    },
    {
     "data": {
      "image/png": "[encoded data removed]",
      "text/plain": [
       "<Figure size 432x288 with 2 Axes>"
      ]
     },
     "metadata": {
      "needs_background": "light"
     },
     "output_type": "display_data"
    }
   ],
   "source": [
    "import matplotlib.pyplot as plt\n",
    "import seaborn as sns\n",
    "from sklearn.metrics import confusion_matrix\n",
    "\n",
    "conMatrix = confusion_matrix(y_test, y_pred)\n",
    "sns.heatmap(conMatrix, annot=True, fmt='d')\n",
    "plt.ylabel('Actual')\n",
    "plt.xlabel('Predicted')"
   ]
  },
  {
   "cell_type": "code",
   "execution_count": 79,
   "id": "8e71561a",
   "metadata": {},
   "outputs": [
    {
     "name": "stdout",
     "output_type": "stream",
     "text": [
      "              precision    recall  f1-score   support\n",
      "\n",
      "           0       0.96      0.95      0.96      7089\n",
      "           1       0.95      0.96      0.96      7338\n",
      "\n",
      "    accuracy                           0.96     14427\n",
      "   macro avg       0.96      0.96      0.96     14427\n",
      "weighted avg       0.96      0.96      0.96     14427\n",
      "\n"
     ]
    }
   ],
   "source": [
    "from sklearn import metrics\n",
    "print(metrics.classification_report(y_test, y_pred))"
   ]
  }
 ],
 "metadata": {
  "kernelspec": {
   "display_name": "Python 3",
   "language": "python",
   "name": "python3"
  },
  "language_info": {
   "codemirror_mode": {
    "name": "ipython",
    "version": 3
   },
   "file_extension": ".py",
   "mimetype": "text/x-python",
   "name": "python",
   "nbconvert_exporter": "python",
   "pygments_lexer": "ipython3",
   "version": "3.10.1"
  }
 },
 "nbformat": 4,
 "nbformat_minor": 5
}
