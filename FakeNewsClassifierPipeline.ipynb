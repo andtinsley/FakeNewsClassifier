{
 "cells": [
  {
   "cell_type": "code",
   "execution_count": 2,
   "id": "clear-washington",
   "metadata": {},
   "outputs": [],
   "source": [
    "import pandas as pd\n",
    "import numpy as np"
   ]
  },
  {
   "cell_type": "code",
   "execution_count": 3,
   "id": "continued-fraud",
   "metadata": {},
   "outputs": [],
   "source": [
    "#load data\n",
    "location = 'C:/Users/andti/OneDrive/Documents/Datasets/WELFake_Dataset.csv'\n",
    "d = pd.read_csv(location)\n",
    "d.drop(['Unnamed: 0'], axis=1, inplace = True)"
   ]
  },
  {
   "cell_type": "code",
   "execution_count": 4,
   "id": "failing-insider",
   "metadata": {},
   "outputs": [],
   "source": [
    "DataSet = d.copy()"
   ]
  },
  {
   "cell_type": "markdown",
   "id": "e4ac79b4",
   "metadata": {},
   "source": [
    "Text wrangling and cleaning"
   ]
  },
  {
   "cell_type": "code",
   "execution_count": 5,
   "id": "noticed-prison",
   "metadata": {},
   "outputs": [
    {
     "name": "stderr",
     "output_type": "stream",
     "text": [
      "[nltk_data] Downloading package stopwords to\n",
      "[nltk_data]     C:\\Users\\andti\\AppData\\Roaming\\nltk_data...\n",
      "[nltk_data]   Package stopwords is already up-to-date!\n",
      "C:\\Users\\andti\\AppData\\Local\\Temp\\ipykernel_12768\\158800997.py:14: SettingWithCopyWarning: \n",
      "A value is trying to be set on a copy of a slice from a DataFrame.\n",
      "Try using .loc[row_indexer,col_indexer] = value instead\n",
      "\n",
      "See the caveats in the documentation: https://pandas.pydata.org/pandas-docs/stable/user_guide/indexing.html#returning-a-view-versus-a-copy\n",
      "  TextDS['text'] = TextWrangle(TextDS['text'])\n"
     ]
    }
   ],
   "source": [
    "#using text as an indicator \n",
    "TextDS = d[['text', 'label']]\n",
    "#remove stop words\n",
    "import nltk\n",
    "from nltk.corpus import stopwords\n",
    "nltk.download(\"stopwords\")\n",
    "stop_words = set(stopwords.words(\"english\"))\n",
    "\n",
    "def TextWrangle (DataElement):\n",
    "    LowerCase = DataElement.str.lower()\n",
    "    RemoveStopWords = LowerCase.astype(str).apply(lambda x: ' '.join([word for word in x.split() if word not in (stop_words)]))\n",
    "    return RemoveStopWords\n",
    "\n",
    "TextDS['text'] = TextWrangle(TextDS['text'])\n",
    "\n",
    "#remove nulls\n",
    "NullLines = TextDS['text'].isnull()\n",
    "TextDS = TextDS[~NullLines]\n",
    "\n",
    "trainData = TextDS['text']\n",
    "trainTarget = TextDS['label']"
   ]
  },
  {
   "cell_type": "code",
   "execution_count": 6,
   "id": "64625bb7",
   "metadata": {},
   "outputs": [],
   "source": []
  },
  {
   "cell_type": "code",
   "execution_count": 7,
   "id": "afbb849e",
   "metadata": {},
   "outputs": [],
   "source": [
    "from sklearn.feature_extraction.text import TfidfVectorizer\n",
    "from sklearn.pipeline import Pipeline\n",
    "from sklearn.svm import LinearSVC\n",
    "from sklearn.calibration import CalibratedClassifierCV\n",
    "\n",
    "pipe = Pipeline([\n",
    "    ('tfidf', TfidfVectorizer(\n",
    "        sublinear_tf=True, \n",
    "        min_df=5, \n",
    "        norm='l2', \n",
    "        encoding='latin-1', \n",
    "        ngram_range=(1,2), \n",
    "        stop_words='english', \n",
    "        max_features=5000)),\n",
    "        ('model', CalibratedClassifierCV(LinearSVC()))\n",
    "])\n",
    "pipe.fit(trainData, trainTarget)\n"
   ]
  }
 ],
 "metadata": {
  "kernelspec": {
   "display_name": "Python 3",
   "language": "python",
   "name": "python3"
  },
  "language_info": {
   "codemirror_mode": {
    "name": "ipython",
    "version": 3
   },
   "file_extension": ".py",
   "mimetype": "text/x-python",
   "name": "python",
   "nbconvert_exporter": "python",
   "pygments_lexer": "ipython3",
   "version": "3.10.1"
  }
 },
 "nbformat": 4,
 "nbformat_minor": 5
}
